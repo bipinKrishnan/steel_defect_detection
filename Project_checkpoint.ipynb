{
 "cells": [
  {
   "cell_type": "code",
   "execution_count": 1,
   "metadata": {},
   "outputs": [],
   "source": [
    "import numpy as np\n",
    "import pandas as pd\n",
    "import matplotlib.pyplot as plt\n",
    "import cv2\n",
    "import os\n",
    "from tqdm import tqdm"
   ]
  },
  {
   "cell_type": "code",
   "execution_count": 2,
   "metadata": {},
   "outputs": [],
   "source": [
    "#convert the image to batches to solve memory error\n",
    "path_csv = 'path_to_train.csv'   #complete path to csv data of images \n",
    "path_image_train = 'path_to_train_images'  #complete path to training images\n",
    "data_csv = pd.read_csv(path_csv)"
   ]
  },
  {
   "cell_type": "code",
   "execution_count": 4,
   "metadata": {},
   "outputs": [],
   "source": [
    "IMG_HEIGHT = 256\n",
    "IMG_WIDTH = 1600\n",
    "IMG_CHANNELS = 3\n",
    "\n",
    "input_shape = (IMG_HEIGHT, IMG_WIDTH, IMG_CHANNELS)"
   ]
  },
  {
   "cell_type": "code",
   "execution_count": 4,
   "metadata": {},
   "outputs": [],
   "source": [
    "data_enc = data_csv['EncodedPixels']\n",
    "data_img_id = list(data_csv['ImageId'])"
   ]
  },
  {
   "cell_type": "code",
   "execution_count": 5,
   "metadata": {},
   "outputs": [
    {
     "data": {
      "text/plain": [
       "(7095,)"
      ]
     },
     "execution_count": 5,
     "metadata": {},
     "output_type": "execute_result"
    }
   ],
   "source": [
    "data_enc.shape"
   ]
  },
  {
   "cell_type": "code",
   "execution_count": 6,
   "metadata": {},
   "outputs": [
    {
     "data": {
      "text/plain": [
       "11"
      ]
     },
     "execution_count": 6,
     "metadata": {},
     "output_type": "execute_result"
    }
   ],
   "source": [
    "train_img = next(os.walk(path_image_train))[2]    #walk through all images in the path\n",
    "train_img.index('0a1cade03.jpg')                  #to get the index of an image id"
   ]
  },
  {
   "cell_type": "code",
   "execution_count": 21,
   "metadata": {},
   "outputs": [],
   "source": [
    "x_train = np.zeros((len(train_img), IMG_HEIGHT, IMG_WIDTH, IMG_CHANNELS), dtype=np.uint8)\n",
    "y_train = np.zeros((len(train_img), IMG_HEIGHT, IMG_WIDTH), dtype=np.uint8)\n",
    "img_with_mask = np.zeros((len(train_img), IMG_HEIGHT, IMG_WIDTH, IMG_CHANNELS), dtype=np.uint8)"
   ]
  },
  {
   "cell_type": "code",
   "execution_count": 22,
   "metadata": {},
   "outputs": [],
   "source": [
    "def rle2mask(rle, imgshape):\n",
    "    #width & height of steel image\n",
    "    width = imgshape[0]    \n",
    "    height= imgshape[1]\n",
    "    \n",
    "    #flatttened empty array with size of input image\n",
    "    mask= np.zeros( width*height ).astype(np.uint8)\n",
    "    #convert all elements of encoded image pixels to int values\n",
    "    array = np.asarray([int(x) for x in rle.split()])\n",
    "    \n",
    "    #splitting the encoded pixels\n",
    "    #every odd index of encoded array is the start pixel &\n",
    "    #every even index of encoded array is the length of the mask from start\n",
    "    starts = array[0::2]\n",
    "    lengths = array[1::2]\n",
    "    \n",
    "    #expanding the encoded pixel\n",
    "    #current_position = 0\n",
    "    for index, start in enumerate(starts):\n",
    "        mask[int(start):int(start+lengths[index])] = 255\n",
    "        #current_position += lengths[index]\n",
    "    \n",
    "    #numpy operations to bring the shape of mask suitable to image\n",
    "    return np.flipud( np.rot90( mask.reshape(height,width), k=1 ) )\n"
   ]
  },
  {
   "cell_type": "code",
   "execution_count": 23,
   "metadata": {
    "scrolled": true
   },
   "outputs": [
    {
     "name": "stderr",
     "output_type": "stream",
     "text": [
      "100%|██████████| 25/25 [00:00<00:00, 86.33it/s]\n"
     ]
    }
   ],
   "source": [
    "for i, img_id in tqdm(enumerate(train_img), total=len(train_img)):\n",
    "    path = path_image_train + img_id\n",
    "    img = cv2.imread(path)\n",
    "    img = cv2.cvtColor(img, cv2.COLOR_BGR2RGB)\n",
    "    img_resize = np.resize(img, (IMG_HEIGHT,IMG_WIDTH,IMG_CHANNELS))\n",
    "    x_train[i] = img_resize     #store all the train images as numpy arrays for training\n",
    "    \n",
    "    #check whether an image has corresponding mask in the csv data or not\n",
    "    if img_id in data_img_id:\n",
    "        idx = data_img_id.index(img_id)\n",
    "        img_resize_1 = np.resize(img, (IMG_HEIGHT,IMG_WIDTH,1))\n",
    "        y_train[i] = rle2mask(data_enc[idx], img_resize_1.shape)   #store all the masks as numpy arrays for training\n",
    "        "
   ]
  },
  {
   "cell_type": "markdown",
   "metadata": {},
   "source": [
    "#### Test"
   ]
  },
  {
   "cell_type": "markdown",
   "metadata": {},
   "source": [
    "--------------------------------------"
   ]
  },
  {
   "cell_type": "code",
   "execution_count": null,
   "metadata": {},
   "outputs": [],
   "source": [
    "fig=plt.figure(figsize=(20,100))\n",
    "columns = 2\n",
    "rows = 50\n",
    "\n",
    "for i in range(1, 10):\n",
    "    fig.add_subplot(rows, columns, i)\n",
    "    img = cv2.imread( path_image_train+fn )\n",
    "    mask = rle2mask( data_csv['EncodedPixels'].iloc[i], img.shape  )\n",
    "    img[mask==1,0] = 255\n",
    "    \n",
    "    plt.imshow(img)\n",
    "plt.show()"
   ]
  },
  {
   "cell_type": "code",
   "execution_count": 37,
   "metadata": {},
   "outputs": [],
   "source": [
    "#convert numpy array to image\n",
    "from PIL import Image\n",
    "y = Image.fromarray(y_train[1])"
   ]
  },
  {
   "cell_type": "code",
   "execution_count": 38,
   "metadata": {},
   "outputs": [],
   "source": [
    "x = cv2.imread(path_image_train+'0abfbfc69.jpg')"
   ]
  },
  {
   "cell_type": "code",
   "execution_count": 40,
   "metadata": {
    "scrolled": true
   },
   "outputs": [
    {
     "data": {
      "text/plain": [
       "<matplotlib.image.AxesImage at 0x7f885e91b710>"
      ]
     },
     "execution_count": 40,
     "metadata": {},
     "output_type": "execute_result"
    },
    {
     "data": {
      "image/png": "[encoded data removed]",
      "text/plain": [
       "<Figure size 432x288 with 1 Axes>"
      ]
     },
     "metadata": {
      "needs_background": "light"
     },
     "output_type": "display_data"
    }
   ],
   "source": [
    "plt.imshow(y)"
   ]
  },
  {
   "cell_type": "markdown",
   "metadata": {},
   "source": [
    "---------------------------"
   ]
  },
  {
   "cell_type": "code",
   "execution_count": 3,
   "metadata": {},
   "outputs": [
    {
     "name": "stderr",
     "output_type": "stream",
     "text": [
      "C:\\Users\\Bipin Krishnan P\\Anaconda3\\lib\\site-packages\\h5py\\__init__.py:36: FutureWarning: Conversion of the second argument of issubdtype from `float` to `np.floating` is deprecated. In future, it will be treated as `np.float64 == np.dtype(float).type`.\n",
      "  from ._conv import register_converters as _register_converters\n"
     ]
    }
   ],
   "source": [
    "import tensorflow as tf"
   ]
  },
  {
   "cell_type": "code",
   "execution_count": 11,
   "metadata": {},
   "outputs": [],
   "source": [
    "#U-net architecture\n",
    "inputs = tf.keras.layers.Input(input_shape)\n",
    "\n",
    "c1 = tf.keras.layers.Conv2D(8, (3,3), activation='elu', padding='same')(inputs)\n",
    "c2 = tf.keras.layers.Conv2D(8, (3,3), activation='elu', padding='same')(c1)\n",
    "p1 = tf.keras.layers.MaxPooling2D((2,2))(c2)\n",
    "\n",
    "c2 = tf.keras.layers.Conv2D(16, (3,3), activation='elu', padding='same')(p1)\n",
    "c2 = tf.keras.layers.Conv2D(16, (3,3), activation='elu', padding='same')(c2)\n",
    "p2 = tf.keras.layers.MaxPooling2D((2,2))(c2)\n",
    "\n",
    "c3 = tf.keras.layers.Conv2D(32, (3,3), activation='elu', padding='same')(p2)\n",
    "c3 = tf.keras.layers.Conv2D(32, (3,3), activation='elu', padding='same')(c3)\n",
    "p3 = tf.keras.layers.MaxPooling2D((2,2))(c3)\n",
    "\n",
    "c4 = tf.keras.layers.Conv2D(64, (3,3), activation='elu', padding='same')(p3)\n",
    "c4 = tf.keras.layers.Conv2D(64, (3,3), activation='elu', padding='same')(c4)\n",
    "p4 = tf.keras.layers.MaxPooling2D((2,2))(c4)\n",
    "\n",
    "c5 = tf.keras.layers.Conv2D(64, (3,3), activation='elu', padding='same')(p4)\n",
    "c5 = tf.keras.layers.Conv2D(64, (3,3), activation='elu', padding='same')(c5)\n",
    "p5 = tf.keras.layers.MaxPooling2D((2,2))(c5)\n",
    "\n",
    "c5a = tf.keras.layers.Conv2D(128, (3,3), activation='elu', padding='same')(p5)\n",
    "c5a = tf.keras.layers.Conv2D(128, (3,3), activation='elu', padding='same')(c5a)\n",
    "\n",
    "u6 = tf.keras.layers.Conv2DTranspose(64, (2,2), strides=(2,2), padding='same')(c5a)\n",
    "u6 = tf.keras.layers.concatenate([u6,c5])\n",
    "\n",
    "c6 = tf.keras.layers.Conv2D(64, (3,3), activation='elu', padding='same')(u6)\n",
    "c6 = tf.keras.layers.Conv2D(64, (3,3), activation='elu', padding='same')(c6)\n",
    "\n",
    "u71 = tf.keras.layers.Conv2DTranspose(32, (2,2), strides=(2,2), padding='same')(c6)\n",
    "u71 = tf.keras.layers.concatenate([u71,c4])\n",
    "\n",
    "c71 = tf.keras.layers.Conv2D(32, (3,3), activation='elu', padding='same')(u71)\n",
    "c71 = tf.keras.layers.Conv2D(32, (3,3), activation='elu', padding='same')(u71)\n",
    "\n",
    "u7 = tf.keras.layers.Conv2DTranspose(32, (2,2), strides=(2,2), padding='same')(u71)\n",
    "u7 = tf.keras.layers.concatenate([u7,c3])\n",
    "\n",
    "c7 = tf.keras.layers.Conv2D(32, (3,3), activation='elu', padding='same')(u7)\n",
    "c7 = tf.keras.layers.Conv2D(32, (3,3), activation='elu', padding='same')(c7)\n",
    "\n",
    "u8 = tf.keras.layers.Conv2DTranspose(16, (2,2), strides=(2,2), padding='same')(c7)\n",
    "u8 = tf.keras.layers.concatenate([u8,c2])\n",
    "\n",
    "c8 = tf.keras.layers.Conv2D(16, (3,3), activation='elu', padding='same')(u8)\n",
    "c8 = tf.keras.layers.Conv2D(16, (3,3), activation='elu', padding='same')(c8)\n",
    "\n",
    "u9 = tf.keras.layers.Conv2DTranspose(8, (2,2), strides=(2,2), padding='same')(c8)\n",
    "u9 = tf.keras.layers.concatenate([u9,c1], axis=3)\n",
    "\n",
    "c9 = tf.keras.layers.Conv2D(8, (3,3), activation='elu', padding='same')(u9)\n",
    "c9 = tf.keras.layers.Conv2D(8, (3,3), activation='elu', padding='same')(c9)\n",
    "\n",
    "outputs = tf.keras.layers.Conv2D(1, (1,1), activation='sigmoid')(c9)\n",
    "\n",
    "model = tf.keras.Model(inputs=[inputs], outputs=[outputs])\n",
    "model.compile(optimizer='adam', loss='binary_crossentropy', metrics=['accuracy'])\n"
   ]
  },
  {
   "cell_type": "code",
   "execution_count": 12,
   "metadata": {},
   "outputs": [
    {
     "name": "stdout",
     "output_type": "stream",
     "text": [
      "__________________________________________________________________________________________________\n",
      "Layer (type)                    Output Shape         Param #     Connected to                     \n",
      "==================================================================================================\n",
      "input_5 (InputLayer)            (None, 256, 1600, 3) 0                                            \n",
      "__________________________________________________________________________________________________\n",
      "conv2d_57 (Conv2D)              (None, 256, 1600, 8) 224         input_5[0][0]                    \n",
      "__________________________________________________________________________________________________\n",
      "conv2d_58 (Conv2D)              (None, 256, 1600, 8) 584         conv2d_57[0][0]                  \n",
      "__________________________________________________________________________________________________\n",
      "max_pooling2d_18 (MaxPooling2D) (None, 128, 800, 8)  0           conv2d_58[0][0]                  \n",
      "__________________________________________________________________________________________________\n",
      "conv2d_59 (Conv2D)              (None, 128, 800, 16) 1168        max_pooling2d_18[0][0]           \n",
      "__________________________________________________________________________________________________\n",
      "conv2d_60 (Conv2D)              (None, 128, 800, 16) 2320        conv2d_59[0][0]                  \n",
      "__________________________________________________________________________________________________\n",
      "max_pooling2d_19 (MaxPooling2D) (None, 64, 400, 16)  0           conv2d_60[0][0]                  \n",
      "__________________________________________________________________________________________________\n",
      "conv2d_61 (Conv2D)              (None, 64, 400, 32)  4640        max_pooling2d_19[0][0]           \n",
      "__________________________________________________________________________________________________\n",
      "conv2d_62 (Conv2D)              (None, 64, 400, 32)  9248        conv2d_61[0][0]                  \n",
      "__________________________________________________________________________________________________\n",
      "max_pooling2d_20 (MaxPooling2D) (None, 32, 200, 32)  0           conv2d_62[0][0]                  \n",
      "__________________________________________________________________________________________________\n",
      "conv2d_63 (Conv2D)              (None, 32, 200, 64)  18496       max_pooling2d_20[0][0]           \n",
      "__________________________________________________________________________________________________\n",
      "conv2d_64 (Conv2D)              (None, 32, 200, 64)  36928       conv2d_63[0][0]                  \n",
      "__________________________________________________________________________________________________\n",
      "max_pooling2d_21 (MaxPooling2D) (None, 16, 100, 64)  0           conv2d_64[0][0]                  \n",
      "__________________________________________________________________________________________________\n",
      "conv2d_65 (Conv2D)              (None, 16, 100, 64)  36928       max_pooling2d_21[0][0]           \n",
      "__________________________________________________________________________________________________\n",
      "conv2d_66 (Conv2D)              (None, 16, 100, 64)  36928       conv2d_65[0][0]                  \n",
      "__________________________________________________________________________________________________\n",
      "max_pooling2d_22 (MaxPooling2D) (None, 8, 50, 64)    0           conv2d_66[0][0]                  \n",
      "__________________________________________________________________________________________________\n",
      "conv2d_67 (Conv2D)              (None, 8, 50, 128)   73856       max_pooling2d_22[0][0]           \n",
      "__________________________________________________________________________________________________\n",
      "conv2d_68 (Conv2D)              (None, 8, 50, 128)   147584      conv2d_67[0][0]                  \n",
      "__________________________________________________________________________________________________\n",
      "conv2d_transpose_7 (Conv2DTrans (None, 16, 100, 64)  32832       conv2d_68[0][0]                  \n",
      "__________________________________________________________________________________________________\n",
      "concatenate_6 (Concatenate)     (None, 16, 100, 128) 0           conv2d_transpose_7[0][0]         \n",
      "                                                                 conv2d_66[0][0]                  \n",
      "__________________________________________________________________________________________________\n",
      "conv2d_69 (Conv2D)              (None, 16, 100, 64)  73792       concatenate_6[0][0]              \n",
      "__________________________________________________________________________________________________\n",
      "conv2d_70 (Conv2D)              (None, 16, 100, 64)  36928       conv2d_69[0][0]                  \n",
      "__________________________________________________________________________________________________\n",
      "conv2d_transpose_8 (Conv2DTrans (None, 32, 200, 32)  8224        conv2d_70[0][0]                  \n",
      "__________________________________________________________________________________________________\n",
      "concatenate_7 (Concatenate)     (None, 32, 200, 96)  0           conv2d_transpose_8[0][0]         \n",
      "                                                                 conv2d_64[0][0]                  \n",
      "__________________________________________________________________________________________________\n",
      "conv2d_transpose_9 (Conv2DTrans (None, 64, 400, 32)  12320       concatenate_7[0][0]              \n",
      "__________________________________________________________________________________________________\n",
      "concatenate_8 (Concatenate)     (None, 64, 400, 64)  0           conv2d_transpose_9[0][0]         \n",
      "                                                                 conv2d_62[0][0]                  \n",
      "__________________________________________________________________________________________________\n",
      "conv2d_73 (Conv2D)              (None, 64, 400, 32)  18464       concatenate_8[0][0]              \n",
      "__________________________________________________________________________________________________\n",
      "conv2d_74 (Conv2D)              (None, 64, 400, 32)  9248        conv2d_73[0][0]                  \n",
      "__________________________________________________________________________________________________\n",
      "conv2d_transpose_10 (Conv2DTran (None, 128, 800, 16) 2064        conv2d_74[0][0]                  \n",
      "__________________________________________________________________________________________________\n",
      "concatenate_9 (Concatenate)     (None, 128, 800, 32) 0           conv2d_transpose_10[0][0]        \n",
      "                                                                 conv2d_60[0][0]                  \n",
      "__________________________________________________________________________________________________\n",
      "conv2d_75 (Conv2D)              (None, 128, 800, 16) 4624        concatenate_9[0][0]              \n",
      "__________________________________________________________________________________________________\n",
      "conv2d_76 (Conv2D)              (None, 128, 800, 16) 2320        conv2d_75[0][0]                  \n",
      "__________________________________________________________________________________________________\n",
      "conv2d_transpose_11 (Conv2DTran (None, 256, 1600, 8) 520         conv2d_76[0][0]                  \n",
      "__________________________________________________________________________________________________\n",
      "concatenate_10 (Concatenate)    (None, 256, 1600, 16 0           conv2d_transpose_11[0][0]        \n",
      "                                                                 conv2d_57[0][0]                  \n",
      "__________________________________________________________________________________________________\n",
      "conv2d_77 (Conv2D)              (None, 256, 1600, 8) 1160        concatenate_10[0][0]             \n",
      "__________________________________________________________________________________________________\n",
      "conv2d_78 (Conv2D)              (None, 256, 1600, 8) 584         conv2d_77[0][0]                  \n",
      "__________________________________________________________________________________________________\n",
      "conv2d_79 (Conv2D)              (None, 256, 1600, 1) 9           conv2d_78[0][0]                  \n",
      "==================================================================================================\n",
      "Total params: 571,993\n",
      "Trainable params: 571,993\n",
      "Non-trainable params: 0\n",
      "__________________________________________________________________________________________________\n"
     ]
    }
   ],
   "source": [
    "model.summary()"
   ]
  },
  {
   "cell_type": "code",
   "execution_count": null,
   "metadata": {},
   "outputs": [],
   "source": []
  }
 ],
 "metadata": {
  "kernelspec": {
   "display_name": "Python 3",
   "language": "python",
   "name": "python3"
  },
  "language_info": {
   "codemirror_mode": {
    "name": "ipython",
    "version": 3
   },
   "file_extension": ".py",
   "mimetype": "text/x-python",
   "name": "python",
   "nbconvert_exporter": "python",
   "pygments_lexer": "ipython3",
   "version": "3.6.5"
  }
 },
 "nbformat": 4,
 "nbformat_minor": 2
}
