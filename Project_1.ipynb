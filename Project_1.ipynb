{
 "cells": [
  {
   "cell_type": "code",
   "execution_count": 1,
   "metadata": {},
   "outputs": [],
   "source": [
    "import numpy as np\n",
    "import pandas as pd\n",
    "import matplotlib.pyplot as plt\n",
    "import cv2\n",
    "import os\n",
    "from tqdm import tqdm"
   ]
  },
  {
   "cell_type": "code",
   "execution_count": 2,
   "metadata": {},
   "outputs": [],
   "source": [
    "path_csv = '/home/abhigith/Desktop/steel_defect_dataset/train.csv'   #complete path to csv data of images \n",
    "path_image_train = '/home/abhigith/Desktop/steel_defect_dataset/train_images/'  #complete path to training images\n",
    "data_csv = pd.read_csv(path_csv)"
   ]
  },
  {
   "cell_type": "code",
   "execution_count": 3,
   "metadata": {},
   "outputs": [],
   "source": [
    "IMG_HEIGHT = 128\n",
    "IMG_WIDTH = 128\n",
    "IMG_CHANNELS = 3"
   ]
  },
  {
   "cell_type": "code",
   "execution_count": 4,
   "metadata": {},
   "outputs": [],
   "source": [
    "data_enc = data_csv['EncodedPixels']\n",
    "data_img_id = list(data_csv['ImageId'])"
   ]
  },
  {
   "cell_type": "code",
   "execution_count": 5,
   "metadata": {},
   "outputs": [
    {
     "data": {
      "text/plain": [
       "(7095,)"
      ]
     },
     "execution_count": 5,
     "metadata": {},
     "output_type": "execute_result"
    }
   ],
   "source": [
    "data_enc.shape"
   ]
  },
  {
   "cell_type": "code",
   "execution_count": 6,
   "metadata": {},
   "outputs": [],
   "source": [
    "train_img = next(os.walk(path_image_train))[2]"
   ]
  },
  {
   "cell_type": "code",
   "execution_count": 7,
   "metadata": {},
   "outputs": [],
   "source": [
    "x_train = np.zeros((len(train_img), IMG_HEIGHT, IMG_WIDTH, IMG_CHANNELS), dtype=np.uint8)\n",
    "y_train = np.zeros((len(train_img), IMG_HEIGHT, IMG_WIDTH, 1), dtype=np.uint8)\n",
    "img_with_mask = np.zeros((len(train_img), IMG_HEIGHT, IMG_WIDTH, IMG_CHANNELS), dtype=np.uint8)"
   ]
  },
  {
   "cell_type": "code",
   "execution_count": 8,
   "metadata": {},
   "outputs": [],
   "source": [
    "def rle2mask(rle, imgshape):\n",
    "    #width & height of steel image\n",
    "    width = imgshape[0]    \n",
    "    height= imgshape[1]\n",
    "    \n",
    "    #flatttened empty array with size of input image\n",
    "    mask= np.zeros( width*height ).astype(np.uint8)\n",
    "    #convert all elements of encoded image pixels to int values\n",
    "    array = np.asarray([int(x) for x in rle.split()])\n",
    "    \n",
    "    #splitting the encoded pixels\n",
    "    #every odd index of encoded array is the start pixel &\n",
    "    #every even index of encoded array is the length of the mask from start\n",
    "    starts = array[0::2]\n",
    "    lengths = array[1::2]\n",
    "    \n",
    "    #expanding the encoded pixel\n",
    "    #current_position = 0\n",
    "    for index, start in enumerate(starts):\n",
    "        mask[int(start):int(start+lengths[index])] = 1\n",
    "        #current_position += lengths[index]\n",
    "    \n",
    "    #numpy operations to bring the shape of mask suitable to image\n",
    "    return np.flipud( np.rot90( mask.reshape(height,width,1), k=1 ) )\n"
   ]
  },
  {
   "cell_type": "code",
   "execution_count": 9,
   "metadata": {},
   "outputs": [
    {
     "data": {
      "text/plain": [
       "\"\\n#plotting variables\\n#fig=plt.figure(figsize=(10,100))\\n#columns = 100\\n#rows = 100\\n\\nfor i in tqdm(range(len(data_enc)), total=len(data_enc)):\\n    fn = data_csv['ImageId'][i]\\n    #image file\\n    img = cv2.imread( '/home/abhigith/Desktop/steel_defect_dataset/train_images/'+fn )\\n    #image BGR --> RGB\\n    img = cv2.cvtColor(img, cv2.COLOR_BGR2RGB)\\n    img = np.resize(img, (IMG_HEIGHT,IMG_WIDTH,1))\\n    #generating mask from encoded pixels\\n    y_train[i] = rle2mask( data_enc[i], img.shape  )\\n    #covering the image with generated mask\\n    #img[mask==1,0] = 255\\n    #plt.imshow(img)\\n    \\n#plt.show()\\n\""
      ]
     },
     "execution_count": 9,
     "metadata": {},
     "output_type": "execute_result"
    }
   ],
   "source": [
    "'''\n",
    "#plotting variables\n",
    "#fig=plt.figure(figsize=(10,100))\n",
    "#columns = 100\n",
    "#rows = 100\n",
    "\n",
    "for i in tqdm(range(len(data_enc)), total=len(data_enc)):\n",
    "    fn = data_csv['ImageId'][i]\n",
    "    #image file\n",
    "    img = cv2.imread( '/home/abhigith/Desktop/steel_defect_dataset/train_images/'+fn )\n",
    "    #image BGR --> RGB\n",
    "    img = cv2.cvtColor(img, cv2.COLOR_BGR2RGB)\n",
    "    img = np.resize(img, (IMG_HEIGHT,IMG_WIDTH,1))\n",
    "    #generating mask from encoded pixels\n",
    "    y_train[i] = rle2mask( data_enc[i], img.shape  )\n",
    "    #covering the image with generated mask\n",
    "    #img[mask==1,0] = 255\n",
    "    #plt.imshow(img)\n",
    "    \n",
    "#plt.show()\n",
    "'''"
   ]
  },
  {
   "cell_type": "code",
   "execution_count": 11,
   "metadata": {
    "scrolled": false
   },
   "outputs": [
    {
     "name": "stderr",
     "output_type": "stream",
     "text": [
      "100%|██████████| 12568/12568 [01:50<00:00, 113.92it/s]\n"
     ]
    }
   ],
   "source": [
    "for i, img_id in tqdm(enumerate(train_img), total=len(train_img)):\n",
    "    path = path_image_train + img_id\n",
    "    img = cv2.imread(path)\n",
    "    img = cv2.cvtColor(img, cv2.COLOR_BGR2RGB)\n",
    "    img = np.resize(img, (IMG_HEIGHT,IMG_WIDTH,IMG_CHANNELS))\n",
    "    x_train[i] = img\n",
    "    \n",
    "    if img_id in data_img_id:\n",
    "        idx = data_img_id.index(img_id)\n",
    "        img = np.resize(img, (IMG_HEIGHT,IMG_WIDTH,1))\n",
    "        y_train[i] = rle2mask(data_enc[idx], img.shape)\n",
    "        \n",
    "\n",
    "    "
   ]
  },
  {
   "cell_type": "code",
   "execution_count": 18,
   "metadata": {},
   "outputs": [
    {
     "data": {
      "text/plain": [
       "<matplotlib.image.AxesImage at 0x7f9f8c2bca90>"
      ]
     },
     "execution_count": 18,
     "metadata": {},
     "output_type": "execute_result"
    },
    {
     "data": {
      "image/png": "[encoded data removed]",
      "text/plain": [
       "<Figure size 432x288 with 1 Axes>"
      ]
     },
     "metadata": {
      "needs_background": "light"
     },
     "output_type": "display_data"
    }
   ],
   "source": [
    "plt.imshow(x_train[123])"
   ]
  },
  {
   "cell_type": "code",
   "execution_count": null,
   "metadata": {},
   "outputs": [],
   "source": []
  }
 ],
 "metadata": {
  "kernelspec": {
   "display_name": "Python 3",
   "language": "python",
   "name": "python3"
  },
  "language_info": {
   "codemirror_mode": {
    "name": "ipython",
    "version": 3
   },
   "file_extension": ".py",
   "mimetype": "text/x-python",
   "name": "python",
   "nbconvert_exporter": "python",
   "pygments_lexer": "ipython3",
   "version": "3.7.1"
  }
 },
 "nbformat": 4,
 "nbformat_minor": 2
}
